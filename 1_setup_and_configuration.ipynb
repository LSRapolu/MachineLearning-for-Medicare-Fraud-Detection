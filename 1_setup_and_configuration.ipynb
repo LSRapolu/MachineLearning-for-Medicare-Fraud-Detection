{
  "nbformat": 4,
  "nbformat_minor": 0,
  "metadata": {
    "colab": {
      "provenance": []
    },
    "kernelspec": {
      "name": "python3",
      "display_name": "Python 3"
    },
    "language_info": {
      "name": "python"
    }
  },
  "cells": [
    {
      "cell_type": "code",
      "source": [
        "# ---\n",
        "# 📘 1_setup_and_configuration.ipynb\n",
        "# Title: Setup & Initialization for Healthcare Fraud Detection (Google Colab)\n",
        "# ---\n",
        "\n",
        "# 🔧 INSTALL DEPENDENCIES\n",
        "!pip install -q lightgbm xgboost imbalanced-learn shap optuna\n",
        "\n",
        "# 🗂️ MOUNT GOOGLE DRIVE (if data is stored on Google Drive)\n",
        "from google.colab import drive\n",
        "drive.mount('/content/drive')\n",
        "\n",
        "# 📚 IMPORT LIBRARIES\n",
        "import os\n",
        "import random\n",
        "import numpy as np\n",
        "import pandas as pd\n",
        "import matplotlib.pyplot as plt\n",
        "import seaborn as sns\n",
        "\n",
        "from sklearn.model_selection import train_test_split, StratifiedKFold, GridSearchCV\n",
        "from sklearn.preprocessing import LabelEncoder, StandardScaler\n",
        "from sklearn.pipeline import Pipeline\n",
        "from sklearn.metrics import (\n",
        "    accuracy_score, precision_score, recall_score, f1_score,\n",
        "    roc_auc_score, confusion_matrix, classification_report\n",
        ")\n",
        "\n",
        "from imblearn.over_sampling import SMOTE\n",
        "from imblearn.pipeline import Pipeline as ImbPipeline\n",
        "\n",
        "import lightgbm as lgb\n",
        "import xgboost as xgb\n",
        "import shap\n",
        "\n",
        "import warnings\n",
        "warnings.filterwarnings(\"ignore\")\n",
        "\n",
        "# 🔁 REPRODUCIBILITY SETTINGS\n",
        "RANDOM_STATE = 42\n",
        "np.random.seed(RANDOM_STATE)\n",
        "random.seed(RANDOM_STATE)\n",
        "os.environ['PYTHONHASHSEED'] = str(RANDOM_STATE)\n",
        "\n",
        "# 💻 DEVICE CONFIGURATION (Torch GPU Check)\n",
        "import torch\n",
        "device = torch.device(\"cuda\" if torch.cuda.is_available() else \"cpu\")\n",
        "print(f\"✅ Running on: {device}\")\n",
        "\n",
        "# ✅ ENVIRONMENT CHECK\n",
        "import sklearn\n",
        "import imblearn\n",
        "print(f\"\"\"\n",
        "📦 Installed Versions:\n",
        "- scikit-learn: {sklearn.__version__}\n",
        "- imbalanced-learn: {imblearn.__version__}\n",
        "- lightgbm: {lgb.__version__}\n",
        "- xgboost: {xgb.__version__}\n",
        "\"\"\")\n",
        "\n",
        "# 📝 EXPORT ENVIRONMENT CONFIG (optional)\n",
        "!pip freeze > requirements.txt\n",
        "print(\"📄 requirements.txt generated.\")\n"
      ],
      "metadata": {
        "colab": {
          "base_uri": "https://localhost:8080/"
        },
        "id": "0vh9fPqAWSMl",
        "outputId": "b05f5de3-b1b7-4d13-ca9a-199cf2e33228"
      },
      "execution_count": 2,
      "outputs": [
        {
          "output_type": "stream",
          "name": "stdout",
          "text": [
            "Drive already mounted at /content/drive; to attempt to forcibly remount, call drive.mount(\"/content/drive\", force_remount=True).\n",
            "✅ Running on: cpu\n",
            "\n",
            "📦 Installed Versions:\n",
            "- scikit-learn: 1.6.1\n",
            "- imbalanced-learn: 0.13.0\n",
            "- lightgbm: 4.5.0\n",
            "- xgboost: 2.1.4\n",
            "\n",
            "📄 requirements.txt generated.\n"
          ]
        }
      ]
    },
    {
      "cell_type": "code",
      "source": [],
      "metadata": {
        "id": "T60dqI3RWdsu"
      },
      "execution_count": null,
      "outputs": []
    }
  ]
}