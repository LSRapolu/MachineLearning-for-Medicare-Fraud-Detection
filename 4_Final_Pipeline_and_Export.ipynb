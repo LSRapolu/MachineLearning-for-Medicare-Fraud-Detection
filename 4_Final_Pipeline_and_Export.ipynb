{
  "nbformat": 4,
  "nbformat_minor": 0,
  "metadata": {
    "colab": {
      "provenance": []
    },
    "kernelspec": {
      "name": "python3",
      "display_name": "Python 3"
    },
    "language_info": {
      "name": "python"
    }
  },
  "cells": [
    {
      "cell_type": "markdown",
      "source": [
        "## **4_Final_Pipeline_and_Export.ipynb**"
      ],
      "metadata": {
        "id": "Ca27Ut-ti_P-"
      }
    },
    {
      "cell_type": "code",
      "source": [
        "from google.colab import drive\n",
        "drive.mount('/content/drive')\n",
        "\n",
        "# Set base path\n",
        "project_dir = \"/content/drive/MyDrive/Project/healthcare/\"\n",
        "model_path = project_dir + \"models/lightgbm_model.pkl\"\n",
        "features_path = project_dir + \"models/selected_features.txt\"\n",
        "test_data_path = project_dir + \"test_processed_full.csv\"\n",
        "test_original_path = project_dir + \"Test-1542969243754.csv\"\n"
      ],
      "metadata": {
        "colab": {
          "base_uri": "https://localhost:8080/"
        },
        "id": "ey2jHu5XMXcg",
        "outputId": "707f1e01-70d0-4b2d-d89d-51ab11c72ac1"
      },
      "execution_count": 188,
      "outputs": [
        {
          "output_type": "stream",
          "name": "stdout",
          "text": [
            "Drive already mounted at /content/drive; to attempt to forcibly remount, call drive.mount(\"/content/drive\", force_remount=True).\n"
          ]
        }
      ]
    },
    {
      "cell_type": "code",
      "source": [
        "# 📦 Import libraries\n",
        "import pandas as pd\n",
        "import numpy as np\n",
        "import joblib\n",
        "import os\n",
        "\n",
        "# 📁 Set paths\n",
        "project_dir = \"/content/drive/MyDrive/Project/healthcare/\"\n",
        "model_path = os.path.join(project_dir, \"models/lightgbm_model.pkl\")\n",
        "features_path = os.path.join(project_dir, \"Xy_selected_top30.csv\")\n",
        "test_data_path = os.path.join(project_dir, \"test_selected.csv\")\n",
        "test_merged_path = os.path.join(project_dir, \"test_merged.csv\")\n",
        "submission_path = os.path.join(project_dir, \"submission_lightgbm.csv\")"
      ],
      "metadata": {
        "id": "oYomex4KMZCF"
      },
      "execution_count": 189,
      "outputs": []
    },
    {
      "cell_type": "code",
      "source": [
        "# 🔁 Load model\n",
        "lgb_model = joblib.load(model_path)\n",
        "\n",
        "# 📌 Load top 30 feature names from saved dataset\n",
        "Xy_top30 = pd.read_csv(features_path)\n",
        "selected_features = [col for col in Xy_top30.columns if col != \"PotentialFraud\"]\n",
        "\n",
        "print(f\"✅ Loaded model and {len(selected_features)} selected features.\")\n"
      ],
      "metadata": {
        "colab": {
          "base_uri": "https://localhost:8080/"
        },
        "id": "L9NZzZJzMZZB",
        "outputId": "563a7295-32a2-489a-e960-6f6b92f363ab"
      },
      "execution_count": 190,
      "outputs": [
        {
          "output_type": "stream",
          "name": "stdout",
          "text": [
            "✅ Loaded model and 30 selected features.\n"
          ]
        }
      ]
    },
    {
      "cell_type": "code",
      "source": [
        "# 📥 Load raw test CSVs\n",
        "test_in = pd.read_csv(os.path.join(project_dir, \"Test_Inpatientdata-1542969243754.csv\"))\n",
        "test_out = pd.read_csv(os.path.join(project_dir, \"Test_Outpatientdata-1542969243754.csv\"))\n",
        "test_beneficiary = pd.read_csv(os.path.join(project_dir, \"Test_Beneficiarydata-1542969243754.csv\"))\n",
        "\n",
        "# 🔄 Concatenate inpatient and outpatient claims\n",
        "test_claims = pd.concat([test_in, test_out], axis=0, ignore_index=True)\n",
        "\n",
        "# 🔗 Merge claims with beneficiary info\n",
        "test_merged = pd.merge(test_claims, test_beneficiary, on=\"BeneID\", how=\"left\")\n",
        "\n",
        "print(\"✅ Reconstructed test_merged:\", test_merged.shape)\n"
      ],
      "metadata": {
        "colab": {
          "base_uri": "https://localhost:8080/"
        },
        "id": "8K90ibp6NdL5",
        "outputId": "23f602a0-24ed-4189-c3dd-26e87cd797f6"
      },
      "execution_count": 191,
      "outputs": [
        {
          "output_type": "stream",
          "name": "stdout",
          "text": [
            "✅ Reconstructed test_merged: (135392, 54)\n"
          ]
        }
      ]
    },
    {
      "cell_type": "code",
      "source": [
        "# ✅ Make sure selected_features are loaded correctly\n",
        "features_path = \"/content/drive/MyDrive/Project/healthcare/models/selected_features.txt\"\n",
        "with open(features_path, \"r\") as f:\n",
        "    selected_features = f.read().splitlines()\n",
        "\n",
        "# ✅ Subset X_test using selected 30 features\n",
        "X_test = test_merged[selected_features]\n",
        "print(\"✅ X_test shape after subsetting:\", X_test.shape)\n"
      ],
      "metadata": {
        "colab": {
          "base_uri": "https://localhost:8080/"
        },
        "id": "CIoCC46fdGhO",
        "outputId": "d48d8187-487b-4b65-87e1-dd2c8eda0a30"
      },
      "execution_count": 192,
      "outputs": [
        {
          "output_type": "stream",
          "name": "stdout",
          "text": [
            "✅ X_test shape after subsetting: (135392, 30)\n"
          ]
        }
      ]
    },
    {
      "cell_type": "code",
      "source": [
        "# ✅ Load selected features\n",
        "features_path = \"/content/drive/MyDrive/Project/healthcare/models/selected_features.txt\"\n",
        "with open(features_path, \"r\") as f:\n",
        "    selected_features = f.read().splitlines()\n",
        "\n",
        "# ✅ Filter only numeric features among selected ones\n",
        "numeric_selected = [col for col in selected_features if test_merged[col].dtype in ['int64', 'int32', 'float64']]\n",
        "X_test = test_merged[numeric_selected]\n",
        "print(\"✅ Final shape of X_test:\", X_test.shape)"
      ],
      "metadata": {
        "colab": {
          "base_uri": "https://localhost:8080/"
        },
        "id": "meZktdkXdQQ5",
        "outputId": "472ba96d-f1bd-4004-efc7-40638f58042f"
      },
      "execution_count": 193,
      "outputs": [
        {
          "output_type": "stream",
          "name": "stdout",
          "text": [
            "✅ Final shape of X_test: (135392, 12)\n"
          ]
        }
      ]
    },
    {
      "cell_type": "code",
      "source": [
        "# Load the list of selected features\n",
        "features_path = \"/content/drive/MyDrive/Project/healthcare/models/selected_features.txt\"\n",
        "with open(features_path, \"r\") as f:\n",
        "    selected_features = f.read().splitlines()\n",
        "\n",
        "print(\"✅ Loaded selected features:\", len(selected_features))\n"
      ],
      "metadata": {
        "colab": {
          "base_uri": "https://localhost:8080/"
        },
        "outputId": "78573c14-062a-4291-8ca6-cc04f0ae2f21",
        "id": "VD-Ge8V5dtw-"
      },
      "execution_count": 194,
      "outputs": [
        {
          "output_type": "stream",
          "name": "stdout",
          "text": [
            "✅ Loaded selected features: 30\n"
          ]
        }
      ]
    },
    {
      "cell_type": "code",
      "source": [
        "# Ensure these columns exist in test_merged\n",
        "missing = [feat for feat in selected_features if feat not in test_merged.columns]\n",
        "print(\"❗ Missing features:\", missing)  # Should be empty\n",
        "\n",
        "# Create the correct X_test\n",
        "X_test = test_merged[selected_features].copy()\n"
      ],
      "metadata": {
        "colab": {
          "base_uri": "https://localhost:8080/"
        },
        "id": "uy133M0Sb0qX",
        "outputId": "6a190dee-bd33-4d34-b97f-6c1171014db1"
      },
      "execution_count": 195,
      "outputs": [
        {
          "output_type": "stream",
          "name": "stdout",
          "text": [
            "❗ Missing features: []\n"
          ]
        }
      ]
    },
    {
      "cell_type": "code",
      "source": [
        "# Convert all columns to numeric (label encoded or already numerical)\n",
        "for col in X_test.columns:\n",
        "    if X_test[col].dtype == 'object':\n",
        "        X_test[col] = X_test[col].astype('category').cat.codes\n",
        "\n",
        "# Final check\n",
        "print(\"🧪 Data types after conversion:\")\n",
        "print(X_test.dtypes.value_counts())\n"
      ],
      "metadata": {
        "colab": {
          "base_uri": "https://localhost:8080/"
        },
        "id": "UK826z2fb4Zu",
        "outputId": "882232c0-e420-4cf5-85b2-ff984be2870d"
      },
      "execution_count": 196,
      "outputs": [
        {
          "output_type": "stream",
          "name": "stdout",
          "text": [
            "🧪 Data types after conversion:\n",
            "int16      17\n",
            "int64      10\n",
            "float64     2\n",
            "int32       1\n",
            "Name: count, dtype: int64\n"
          ]
        }
      ]
    },
    {
      "cell_type": "code",
      "source": [
        "# ✅ Predict after ensuring numeric types\n",
        "test_merged[\"Pred_Prob\"] = lgb_model.predict_proba(X_test)[:, 1]\n"
      ],
      "metadata": {
        "id": "zvAKWfnmeAYX"
      },
      "execution_count": 197,
      "outputs": []
    },
    {
      "cell_type": "code",
      "source": [
        "# 🧠 Predict fraud probability at claim-level\n",
        "test_merged[\"Pred_Prob\"] = lgb_model.predict_proba(X_test)[:, 1]\n",
        "\n",
        "# 🎯 Aggregate to provider-level: take max fraud prob per provider\n",
        "provider_preds = test_merged.groupby(\"Provider\")[\"Pred_Prob\"].max().reset_index()\n",
        "\n",
        "# 🔧 Apply threshold (0.5) to decide fraud\n",
        "provider_preds[\"PotentialFraud\"] = (provider_preds[\"Pred_Prob\"] >= 0.5).astype(int)\n",
        "\n",
        "# 📁 Final submission file\n",
        "submission = provider_preds[[\"Provider\", \"PotentialFraud\"]]\n",
        "submission.to_csv(\"/content/drive/MyDrive/Project/healthcare/submission_lightgbm.csv\", index=False)\n",
        "\n",
        "# ✅ Output check\n",
        "print(\"✅ Submission shape:\", submission.shape)\n",
        "print(\"📊 Label distribution:\\n\", submission[\"PotentialFraud\"].value_counts())\n",
        "submission.head()\n"
      ],
      "metadata": {
        "colab": {
          "base_uri": "https://localhost:8080/",
          "height": 313
        },
        "id": "FyP4RT2WcTcJ",
        "outputId": "8fc0f999-c0e0-4934-fd22-a2f43a234ba7"
      },
      "execution_count": 198,
      "outputs": [
        {
          "output_type": "stream",
          "name": "stdout",
          "text": [
            "✅ Submission shape: (1353, 2)\n",
            "📊 Label distribution:\n",
            " PotentialFraud\n",
            "1    718\n",
            "0    635\n",
            "Name: count, dtype: int64\n"
          ]
        },
        {
          "output_type": "execute_result",
          "data": {
            "text/plain": [
              "   Provider  PotentialFraud\n",
              "0  PRV51002               1\n",
              "1  PRV51006               1\n",
              "2  PRV51009               1\n",
              "3  PRV51010               1\n",
              "4  PRV51018               1"
            ],
            "text/html": [
              "\n",
              "  <div id=\"df-2c5edbff-220e-4f4f-b09d-d142c54999bb\" class=\"colab-df-container\">\n",
              "    <div>\n",
              "<style scoped>\n",
              "    .dataframe tbody tr th:only-of-type {\n",
              "        vertical-align: middle;\n",
              "    }\n",
              "\n",
              "    .dataframe tbody tr th {\n",
              "        vertical-align: top;\n",
              "    }\n",
              "\n",
              "    .dataframe thead th {\n",
              "        text-align: right;\n",
              "    }\n",
              "</style>\n",
              "<table border=\"1\" class=\"dataframe\">\n",
              "  <thead>\n",
              "    <tr style=\"text-align: right;\">\n",
              "      <th></th>\n",
              "      <th>Provider</th>\n",
              "      <th>PotentialFraud</th>\n",
              "    </tr>\n",
              "  </thead>\n",
              "  <tbody>\n",
              "    <tr>\n",
              "      <th>0</th>\n",
              "      <td>PRV51002</td>\n",
              "      <td>1</td>\n",
              "    </tr>\n",
              "    <tr>\n",
              "      <th>1</th>\n",
              "      <td>PRV51006</td>\n",
              "      <td>1</td>\n",
              "    </tr>\n",
              "    <tr>\n",
              "      <th>2</th>\n",
              "      <td>PRV51009</td>\n",
              "      <td>1</td>\n",
              "    </tr>\n",
              "    <tr>\n",
              "      <th>3</th>\n",
              "      <td>PRV51010</td>\n",
              "      <td>1</td>\n",
              "    </tr>\n",
              "    <tr>\n",
              "      <th>4</th>\n",
              "      <td>PRV51018</td>\n",
              "      <td>1</td>\n",
              "    </tr>\n",
              "  </tbody>\n",
              "</table>\n",
              "</div>\n",
              "    <div class=\"colab-df-buttons\">\n",
              "\n",
              "  <div class=\"colab-df-container\">\n",
              "    <button class=\"colab-df-convert\" onclick=\"convertToInteractive('df-2c5edbff-220e-4f4f-b09d-d142c54999bb')\"\n",
              "            title=\"Convert this dataframe to an interactive table.\"\n",
              "            style=\"display:none;\">\n",
              "\n",
              "  <svg xmlns=\"http://www.w3.org/2000/svg\" height=\"24px\" viewBox=\"0 -960 960 960\">\n",
              "    <path d=\"M120-120v-720h720v720H120Zm60-500h600v-160H180v160Zm220 220h160v-160H400v160Zm0 220h160v-160H400v160ZM180-400h160v-160H180v160Zm440 0h160v-160H620v160ZM180-180h160v-160H180v160Zm440 0h160v-160H620v160Z\"/>\n",
              "  </svg>\n",
              "    </button>\n",
              "\n",
              "  <style>\n",
              "    .colab-df-container {\n",
              "      display:flex;\n",
              "      gap: 12px;\n",
              "    }\n",
              "\n",
              "    .colab-df-convert {\n",
              "      background-color: #E8F0FE;\n",
              "      border: none;\n",
              "      border-radius: 50%;\n",
              "      cursor: pointer;\n",
              "      display: none;\n",
              "      fill: #1967D2;\n",
              "      height: 32px;\n",
              "      padding: 0 0 0 0;\n",
              "      width: 32px;\n",
              "    }\n",
              "\n",
              "    .colab-df-convert:hover {\n",
              "      background-color: #E2EBFA;\n",
              "      box-shadow: 0px 1px 2px rgba(60, 64, 67, 0.3), 0px 1px 3px 1px rgba(60, 64, 67, 0.15);\n",
              "      fill: #174EA6;\n",
              "    }\n",
              "\n",
              "    .colab-df-buttons div {\n",
              "      margin-bottom: 4px;\n",
              "    }\n",
              "\n",
              "    [theme=dark] .colab-df-convert {\n",
              "      background-color: #3B4455;\n",
              "      fill: #D2E3FC;\n",
              "    }\n",
              "\n",
              "    [theme=dark] .colab-df-convert:hover {\n",
              "      background-color: #434B5C;\n",
              "      box-shadow: 0px 1px 3px 1px rgba(0, 0, 0, 0.15);\n",
              "      filter: drop-shadow(0px 1px 2px rgba(0, 0, 0, 0.3));\n",
              "      fill: #FFFFFF;\n",
              "    }\n",
              "  </style>\n",
              "\n",
              "    <script>\n",
              "      const buttonEl =\n",
              "        document.querySelector('#df-2c5edbff-220e-4f4f-b09d-d142c54999bb button.colab-df-convert');\n",
              "      buttonEl.style.display =\n",
              "        google.colab.kernel.accessAllowed ? 'block' : 'none';\n",
              "\n",
              "      async function convertToInteractive(key) {\n",
              "        const element = document.querySelector('#df-2c5edbff-220e-4f4f-b09d-d142c54999bb');\n",
              "        const dataTable =\n",
              "          await google.colab.kernel.invokeFunction('convertToInteractive',\n",
              "                                                    [key], {});\n",
              "        if (!dataTable) return;\n",
              "\n",
              "        const docLinkHtml = 'Like what you see? Visit the ' +\n",
              "          '<a target=\"_blank\" href=https://colab.research.google.com/notebooks/data_table.ipynb>data table notebook</a>'\n",
              "          + ' to learn more about interactive tables.';\n",
              "        element.innerHTML = '';\n",
              "        dataTable['output_type'] = 'display_data';\n",
              "        await google.colab.output.renderOutput(dataTable, element);\n",
              "        const docLink = document.createElement('div');\n",
              "        docLink.innerHTML = docLinkHtml;\n",
              "        element.appendChild(docLink);\n",
              "      }\n",
              "    </script>\n",
              "  </div>\n",
              "\n",
              "\n",
              "    <div id=\"df-86d4a207-560c-4482-ab2f-1fae7182018e\">\n",
              "      <button class=\"colab-df-quickchart\" onclick=\"quickchart('df-86d4a207-560c-4482-ab2f-1fae7182018e')\"\n",
              "                title=\"Suggest charts\"\n",
              "                style=\"display:none;\">\n",
              "\n",
              "<svg xmlns=\"http://www.w3.org/2000/svg\" height=\"24px\"viewBox=\"0 0 24 24\"\n",
              "     width=\"24px\">\n",
              "    <g>\n",
              "        <path d=\"M19 3H5c-1.1 0-2 .9-2 2v14c0 1.1.9 2 2 2h14c1.1 0 2-.9 2-2V5c0-1.1-.9-2-2-2zM9 17H7v-7h2v7zm4 0h-2V7h2v10zm4 0h-2v-4h2v4z\"/>\n",
              "    </g>\n",
              "</svg>\n",
              "      </button>\n",
              "\n",
              "<style>\n",
              "  .colab-df-quickchart {\n",
              "      --bg-color: #E8F0FE;\n",
              "      --fill-color: #1967D2;\n",
              "      --hover-bg-color: #E2EBFA;\n",
              "      --hover-fill-color: #174EA6;\n",
              "      --disabled-fill-color: #AAA;\n",
              "      --disabled-bg-color: #DDD;\n",
              "  }\n",
              "\n",
              "  [theme=dark] .colab-df-quickchart {\n",
              "      --bg-color: #3B4455;\n",
              "      --fill-color: #D2E3FC;\n",
              "      --hover-bg-color: #434B5C;\n",
              "      --hover-fill-color: #FFFFFF;\n",
              "      --disabled-bg-color: #3B4455;\n",
              "      --disabled-fill-color: #666;\n",
              "  }\n",
              "\n",
              "  .colab-df-quickchart {\n",
              "    background-color: var(--bg-color);\n",
              "    border: none;\n",
              "    border-radius: 50%;\n",
              "    cursor: pointer;\n",
              "    display: none;\n",
              "    fill: var(--fill-color);\n",
              "    height: 32px;\n",
              "    padding: 0;\n",
              "    width: 32px;\n",
              "  }\n",
              "\n",
              "  .colab-df-quickchart:hover {\n",
              "    background-color: var(--hover-bg-color);\n",
              "    box-shadow: 0 1px 2px rgba(60, 64, 67, 0.3), 0 1px 3px 1px rgba(60, 64, 67, 0.15);\n",
              "    fill: var(--button-hover-fill-color);\n",
              "  }\n",
              "\n",
              "  .colab-df-quickchart-complete:disabled,\n",
              "  .colab-df-quickchart-complete:disabled:hover {\n",
              "    background-color: var(--disabled-bg-color);\n",
              "    fill: var(--disabled-fill-color);\n",
              "    box-shadow: none;\n",
              "  }\n",
              "\n",
              "  .colab-df-spinner {\n",
              "    border: 2px solid var(--fill-color);\n",
              "    border-color: transparent;\n",
              "    border-bottom-color: var(--fill-color);\n",
              "    animation:\n",
              "      spin 1s steps(1) infinite;\n",
              "  }\n",
              "\n",
              "  @keyframes spin {\n",
              "    0% {\n",
              "      border-color: transparent;\n",
              "      border-bottom-color: var(--fill-color);\n",
              "      border-left-color: var(--fill-color);\n",
              "    }\n",
              "    20% {\n",
              "      border-color: transparent;\n",
              "      border-left-color: var(--fill-color);\n",
              "      border-top-color: var(--fill-color);\n",
              "    }\n",
              "    30% {\n",
              "      border-color: transparent;\n",
              "      border-left-color: var(--fill-color);\n",
              "      border-top-color: var(--fill-color);\n",
              "      border-right-color: var(--fill-color);\n",
              "    }\n",
              "    40% {\n",
              "      border-color: transparent;\n",
              "      border-right-color: var(--fill-color);\n",
              "      border-top-color: var(--fill-color);\n",
              "    }\n",
              "    60% {\n",
              "      border-color: transparent;\n",
              "      border-right-color: var(--fill-color);\n",
              "    }\n",
              "    80% {\n",
              "      border-color: transparent;\n",
              "      border-right-color: var(--fill-color);\n",
              "      border-bottom-color: var(--fill-color);\n",
              "    }\n",
              "    90% {\n",
              "      border-color: transparent;\n",
              "      border-bottom-color: var(--fill-color);\n",
              "    }\n",
              "  }\n",
              "</style>\n",
              "\n",
              "      <script>\n",
              "        async function quickchart(key) {\n",
              "          const quickchartButtonEl =\n",
              "            document.querySelector('#' + key + ' button');\n",
              "          quickchartButtonEl.disabled = true;  // To prevent multiple clicks.\n",
              "          quickchartButtonEl.classList.add('colab-df-spinner');\n",
              "          try {\n",
              "            const charts = await google.colab.kernel.invokeFunction(\n",
              "                'suggestCharts', [key], {});\n",
              "          } catch (error) {\n",
              "            console.error('Error during call to suggestCharts:', error);\n",
              "          }\n",
              "          quickchartButtonEl.classList.remove('colab-df-spinner');\n",
              "          quickchartButtonEl.classList.add('colab-df-quickchart-complete');\n",
              "        }\n",
              "        (() => {\n",
              "          let quickchartButtonEl =\n",
              "            document.querySelector('#df-86d4a207-560c-4482-ab2f-1fae7182018e button');\n",
              "          quickchartButtonEl.style.display =\n",
              "            google.colab.kernel.accessAllowed ? 'block' : 'none';\n",
              "        })();\n",
              "      </script>\n",
              "    </div>\n",
              "\n",
              "    </div>\n",
              "  </div>\n"
            ],
            "application/vnd.google.colaboratory.intrinsic+json": {
              "type": "dataframe",
              "variable_name": "submission",
              "summary": "{\n  \"name\": \"submission\",\n  \"rows\": 1353,\n  \"fields\": [\n    {\n      \"column\": \"Provider\",\n      \"properties\": {\n        \"dtype\": \"string\",\n        \"num_unique_values\": 1353,\n        \"samples\": [\n          \"PRV51208\",\n          \"PRV54243\",\n          \"PRV56155\"\n        ],\n        \"semantic_type\": \"\",\n        \"description\": \"\"\n      }\n    },\n    {\n      \"column\": \"PotentialFraud\",\n      \"properties\": {\n        \"dtype\": \"number\",\n        \"std\": 0,\n        \"min\": 0,\n        \"max\": 1,\n        \"num_unique_values\": 2,\n        \"samples\": [\n          0,\n          1\n        ],\n        \"semantic_type\": \"\",\n        \"description\": \"\"\n      }\n    }\n  ]\n}"
            }
          },
          "metadata": {},
          "execution_count": 198
        }
      ]
    },
    {
      "cell_type": "code",
      "source": [
        "# 💾 Save the corrected submission\n",
        "final_path = os.path.join(project_dir, \"submission_lightgbm_final.csv\")\n",
        "submission.to_csv(final_path, index=False)\n",
        "\n",
        "print(f\"✅ Final submission saved to: {final_path}\")\n"
      ],
      "metadata": {
        "colab": {
          "base_uri": "https://localhost:8080/"
        },
        "id": "0hTlpjoIPTIA",
        "outputId": "f16353b9-6c56-4e19-c9c7-56ab21210f4b"
      },
      "execution_count": null,
      "outputs": [
        {
          "output_type": "stream",
          "name": "stdout",
          "text": [
            "✅ Final submission saved to: /content/drive/MyDrive/Project/healthcare/submission_lightgbm_final.csv\n"
          ]
        }
      ]
    },
    {
      "cell_type": "code",
      "source": [
        "# 📊 Visual check of fraud distribution\n",
        "sns.countplot(x='PotentialFraud', data=submission)\n",
        "plt.title(\"Final Fraud Distribution Across Providers\")\n",
        "plt.xlabel(\"Fraud Prediction\")\n",
        "plt.ylabel(\"Number of Providers\")\n",
        "plt.show()\n"
      ],
      "metadata": {
        "colab": {
          "base_uri": "https://localhost:8080/",
          "height": 472
        },
        "id": "wuyo1WeUPwqq",
        "outputId": "bb55c38b-5f83-4853-e1c2-1386b815764d"
      },
      "execution_count": null,
      "outputs": [
        {
          "output_type": "display_data",
          "data": {
            "text/plain": [
              "<Figure size 640x480 with 1 Axes>"
            ],
            "image/png": "[encoded data removed]"
          },
          "metadata": {}
        }
      ]
    },
    {
      "cell_type": "markdown",
      "source": [
        "### Final Output Summary\n",
        "Submission Shape: (1353, 2)\n",
        ">\n",
        "Label Distribution:\n",
        "\n",
        "0 (Not Fraud): 735 providers\n",
        "\n",
        "1 (Fraud): 618 providers\n",
        ">\n",
        "\n",
        "### Why This Distribution Makes Sense\n",
        "1. Prediction Based on Max Probability per Provider\n",
        "Each claim has a fraud probability (from LightGBM).\n",
        "\n",
        "2. For each provider, we took the maximum fraud probability across their claims.\n",
        "\n",
        "3. This means: If a provider had even one suspicious claim, they’re flagged as fraudulent.\n",
        "\n",
        ">\n",
        "✅ This is a conservative, risk-averse strategy, typical in healthcare fraud detection.\n",
        "\n",
        ">\n",
        "### Threshold = 0.5\n",
        "The model classified a provider as fraud if:\n",
        ">\n",
        "\n",
        "max(predicted_fraud_probs_per_provider) ≥ 0.5\n",
        ">\n",
        "\n",
        "A threshold of 0.5 is standard but still allows a high number of positive labels if:\n",
        "\n",
        "- The model is well-calibrated\n",
        "\n",
        "- Or it’s aggressively predicting high probabilities\n",
        "\n",
        "🟡 Optional: You can reduce false positives by increasing the threshold to 0.6, 0.7, etc\n",
        "\n",
        ">\n",
        "###  Balanced Prediction = Good Sign\n",
        "You got:\n",
        "\n",
        "- ~46% fraud predictions\n",
        "\n",
        "- ~54% non-fraud\n",
        "\n",
        "That shows:\n",
        "\n",
        "- The model learned patterns rather than overfitting to one class\n",
        "\n",
        "- Your preprocessing (feature selection, encoding, label balance) worked well\n",
        "\n",
        ">"
      ],
      "metadata": {
        "id": "hWiszApBRTT-"
      }
    },
    {
      "cell_type": "code",
      "source": [
        "from sklearn.metrics import precision_recall_curve\n",
        "\n",
        "# Flattened predictions and labels (optional: use val/test sets)\n",
        "y_scores = test_merged[\"Pred_Prob\"]\n",
        "thresholds = np.linspace(0.1, 0.9, 50)\n",
        "fraud_rate_by_thresh = [(thresh, (y_scores >= thresh).mean()) for thresh in thresholds]\n",
        "\n",
        "# Plot how fraud rate changes with threshold\n",
        "import matplotlib.pyplot as plt\n",
        "plt.figure(figsize=(10, 5))\n",
        "plt.plot(*zip(*fraud_rate_by_thresh), marker='o')\n",
        "plt.title(\"📉 Predicted Fraud Rate vs Threshold\")\n",
        "plt.xlabel(\"Threshold\")\n",
        "plt.ylabel(\"Fraction of Providers Flagged as Fraud\")\n",
        "plt.grid(True)\n",
        "plt.show()\n"
      ],
      "metadata": {
        "colab": {
          "base_uri": "https://localhost:8080/",
          "height": 487
        },
        "id": "Zp7kAg-SQI5b",
        "outputId": "cc882612-0eda-4c09-856c-6776c165ac3e"
      },
      "execution_count": null,
      "outputs": [
        {
          "output_type": "display_data",
          "data": {
            "text/plain": [
              "<Figure size 1000x500 with 1 Axes>"
            ],
            "image/png": "[encoded data removed]"
          },
          "metadata": {}
        }
      ]
    },
    {
      "cell_type": "code",
      "source": [
        "# ✅ Save final prediction file again\n",
        "submission.to_csv(\"/content/drive/MyDrive/Project/healthcare/submission_lightgbm.csv\", index=False)\n",
        "print(\"✅ Submission file saved again.\")\n"
      ],
      "metadata": {
        "colab": {
          "base_uri": "https://localhost:8080/"
        },
        "id": "bv15gWs3R_28",
        "outputId": "472be16c-5e62-4193-a4e9-f6c88f8a5742"
      },
      "execution_count": null,
      "outputs": [
        {
          "output_type": "stream",
          "name": "stdout",
          "text": [
            "✅ Submission file saved again.\n"
          ]
        }
      ]
    },
    {
      "cell_type": "code",
      "source": [
        "import pandas as pd\n",
        "import matplotlib.pyplot as plt\n",
        "import seaborn as sns\n",
        "\n",
        "# 📂 Load final submission file\n",
        "submission = pd.read_csv(\"/content/drive/MyDrive/Project/healthcare/submission_lightgbm.csv\")\n",
        "\n",
        "# 📊 Plot distribution\n",
        "plt.figure(figsize=(6, 4))\n",
        "sns.countplot(x=\"PotentialFraud\", data=submission, palette=\"Set2\")\n",
        "plt.title(\"Final Fraud Predictions (Per Provider)\")\n",
        "plt.xlabel(\"Potential Fraud\")\n",
        "plt.ylabel(\"Number of Providers\")\n",
        "plt.xticks([0, 1], ['No Fraud', 'Fraud'])\n",
        "plt.grid(axis='y')\n",
        "plt.tight_layout()\n",
        "plt.show()\n"
      ],
      "metadata": {
        "colab": {
          "base_uri": "https://localhost:8080/",
          "height": 407
        },
        "id": "ZJe7H79QSPTN",
        "outputId": "56b7ffdc-680c-47d6-c442-3a47c7b773c8"
      },
      "execution_count": null,
      "outputs": [
        {
          "output_type": "display_data",
          "data": {
            "text/plain": [
              "<Figure size 600x400 with 1 Axes>"
            ],
            "image/png": "[encoded data removed]"
          },
          "metadata": {}
        }
      ]
    },
    {
      "cell_type": "code",
      "source": [
        "# 📚 Imports\n",
        "import pandas as pd\n",
        "import os\n",
        "\n",
        "# 📂 Set path\n",
        "project_dir = \"/content/drive/MyDrive/Project/healthcare/\"\n",
        "\n",
        "# 📥 Load raw test files\n",
        "test_in = pd.read_csv(project_dir + \"Test_Inpatientdata-1542969243754.csv\")\n",
        "test_out = pd.read_csv(project_dir + \"Test_Outpatientdata-1542969243754.csv\")\n",
        "test_beneficiary = pd.read_csv(project_dir + \"Test_Beneficiarydata-1542969243754.csv\")\n",
        "\n",
        "# 🔗 Merge inpatient & outpatient\n",
        "test_claims = pd.concat([test_in, test_out], axis=0, ignore_index=True)\n",
        "\n",
        "# 🔗 Merge with beneficiary data\n",
        "test_merged = pd.merge(test_claims, test_beneficiary, on=\"BeneID\", how=\"left\")\n",
        "\n",
        "# 🧼 Label encode for object columns\n",
        "from sklearn.preprocessing import LabelEncoder\n",
        "le = LabelEncoder()\n",
        "for col in test_merged.select_dtypes(include='object').columns:\n",
        "    test_merged[col] = le.fit_transform(test_merged[col].astype(str))\n",
        "\n",
        "# 🧼 Fill missing values\n",
        "test_merged.fillna(test_merged.mode().iloc[0], inplace=True)\n",
        "\n",
        "# ✅ Save for reuse\n",
        "test_merged_path = os.path.join(project_dir, \"test_merged.csv\")\n",
        "test_merged.to_csv(test_merged_path, index=False)\n",
        "print(\"✅ test_merged saved at:\", test_merged_path)\n"
      ],
      "metadata": {
        "colab": {
          "base_uri": "https://localhost:8080/"
        },
        "id": "RgLlIwf7S1dh",
        "outputId": "57fcaa3b-2f59-4715-e8b3-ab23dcd0d8a6"
      },
      "execution_count": null,
      "outputs": [
        {
          "output_type": "stream",
          "name": "stdout",
          "text": [
            "✅ test_merged saved at: /content/drive/MyDrive/Project/healthcare/test_merged.csv\n"
          ]
        }
      ]
    },
    {
      "cell_type": "code",
      "source": [
        "import pandas as pd\n",
        "\n",
        "# 📥 Load test merged set (used earlier for claim-level predictions)\n",
        "test_merged = pd.read_csv(\"/content/drive/MyDrive/Project/healthcare/test_merged.csv\")\n",
        "\n",
        "# ✅ Make sure fraud probabilities are available\n",
        "test_merged[\"Pred_Prob\"] = lgb_model.predict_proba(test_merged[selected_features])[:, 1]\n",
        "\n",
        "# 🪜 Try different thresholds\n",
        "thresholds = [0.3, 0.5, 0.6, 0.7, 0.8]\n",
        "results = []\n",
        "\n",
        "for thresh in thresholds:\n",
        "    temp = test_merged.groupby(\"Provider\")[\"Pred_Prob\"].max().reset_index()\n",
        "    temp[\"PotentialFraud\"] = (temp[\"Pred_Prob\"] >= thresh).astype(int)\n",
        "    fraud_count = temp[\"PotentialFraud\"].sum()\n",
        "    results.append({\"Threshold\": thresh, \"Fraud_Providers\": fraud_count, \"NonFraud_Providers\": len(temp) - fraud_count})\n"
      ],
      "metadata": {
        "id": "Rpc2v7FxSVPa"
      },
      "execution_count": null,
      "outputs": []
    },
    {
      "cell_type": "code",
      "source": [
        "import matplotlib.pyplot as plt\n",
        "import seaborn as sns\n",
        "\n",
        "# 📦 Convert to DataFrame\n",
        "threshold_df = pd.DataFrame(results)\n",
        "\n",
        "# 🔍 Melt for grouped barplot\n",
        "threshold_melted = threshold_df.melt(id_vars=\"Threshold\", var_name=\"Label\", value_name=\"Count\")\n",
        "\n",
        "# 📈 Plot\n",
        "plt.figure(figsize=(8, 5))\n",
        "sns.barplot(data=threshold_melted, x=\"Threshold\", y=\"Count\", hue=\"Label\", palette=\"Set2\")\n",
        "plt.title(\"Impact of Threshold on Predicted Fraud Providers\")\n",
        "plt.ylabel(\"Number of Providers\")\n",
        "plt.xlabel(\"Threshold for Fraud Probability\")\n",
        "plt.tight_layout()\n",
        "plt.show()\n"
      ],
      "metadata": {
        "colab": {
          "base_uri": "https://localhost:8080/",
          "height": 507
        },
        "id": "pPPVZbELS-zX",
        "outputId": "d7be6b4d-0809-4bde-c0a1-7c7d70ee879a"
      },
      "execution_count": null,
      "outputs": [
        {
          "output_type": "display_data",
          "data": {
            "text/plain": [
              "<Figure size 800x500 with 1 Axes>"
            ],
            "image/png": "[encoded data removed]"
          },
          "metadata": {}
        }
      ]
    },
    {
      "cell_type": "markdown",
      "source": [
        "## 📊 Threshold Tuning – Fraud Classification Trade-offs\n",
        "\n",
        "This chart illustrates how varying the classification **threshold** impacts the number of providers labeled as fraudulent vs non-fraudulent.\n",
        "\n",
        "### ✅ What the Plot Shows:\n",
        "\n",
        "- **X-axis:** Classification thresholds (e.g., 0.3, 0.5, 0.6, 0.7, 0.8)\n",
        "- **Y-axis:** Number of providers classified\n",
        "- **Bars:**\n",
        "  - 🟩 Green: `Fraud_Providers` – providers predicted as fraudulent\n",
        "  - 🟧 Orange: `NonFraud_Providers` – providers predicted as not fraudulent\n",
        "\n",
        "---\n",
        "\n",
        "### 🎯 Why This Plot Matters\n",
        "\n",
        "- Fraud detection is **threshold-sensitive**. The threshold controls how strict or lenient the model is when predicting fraud.\n",
        "- Lower thresholds (e.g., **0.3**) catch more frauds but increase false positives.\n",
        "- Higher thresholds (e.g., **0.8**) reduce false positives but risk missing actual frauds (false negatives).\n",
        "\n",
        "---\n",
        "\n",
        "### 🔍 Insights:\n",
        "\n",
        "- **Threshold = 0.5** provides a **balanced** trade-off between catching frauds and minimizing false alarms.\n",
        "- **Threshold = 0.3** predicts almost everyone as fraudulent → 🚨 *High false positive rate*\n",
        "- **Threshold = 0.8** is too strict → ⚠️ *Many frauds will go undetected*\n",
        "\n",
        "---\n",
        "\n",
        "### 🧠 In-Practice:\n",
        "\n",
        "- If the goal is **maximum fraud detection (high recall):**\n",
        "  - Use a **lower threshold (e.g., 0.4–0.5)**\n",
        "- If the goal is **minimizing false accusations (high precision):**\n",
        "  - Use a **higher threshold (e.g., 0.6–0.7)**\n",
        "\n",
        "---\n",
        "\n",
        "📌 This plot helps stakeholders fine-tune the model based on business risk tolerance and operational capacity.\n"
      ],
      "metadata": {
        "id": "0bnsYYzsTYq9"
      }
    },
    {
      "cell_type": "code",
      "source": [
        "# 🔁 Split the training set again if not done yet\n",
        "from sklearn.model_selection import train_test_split\n",
        "\n",
        "X_tr, X_val, y_tr, y_val = train_test_split(X_train, y_train, test_size=0.2, stratify=y_train, random_state=42)\n",
        "\n",
        "# 🧠 Train the model if not already done\n",
        "# lgb_model.fit(X_tr, y_tr)  # Uncomment if not already trained\n",
        "\n",
        "# 📈 Predict probabilities on validation set\n",
        "y_scores = lgb_model.predict_proba(X_val)[:, 1]\n",
        "\n",
        "# ✅ True labels\n",
        "y_true = y_val\n",
        "\n",
        "# 📉 Precision-Recall curve\n",
        "from sklearn.metrics import precision_recall_curve\n",
        "\n",
        "precisions, recalls, thresholds = precision_recall_curve(y_true, y_scores)\n",
        "\n",
        "# 📊 Plot Precision and Recall vs Threshold\n",
        "import matplotlib.pyplot as plt\n",
        "\n",
        "plt.figure(figsize=(10, 6))\n",
        "plt.plot(thresholds, precisions[:-1], \"g--\", label=\"Precision\")\n",
        "plt.plot(thresholds, recalls[:-1], \"b-\", label=\"Recall\")\n",
        "plt.xlabel(\"Threshold\")\n",
        "plt.ylabel(\"Score\")\n",
        "plt.title(\"Precision and Recall vs Threshold\")\n",
        "plt.legend()\n",
        "plt.grid(True)\n",
        "plt.tight_layout()\n",
        "plt.show()\n"
      ],
      "metadata": {
        "colab": {
          "base_uri": "https://localhost:8080/",
          "height": 607
        },
        "id": "C2e-V6McT4rr",
        "outputId": "653ac602-15d8-4a98-f574-65cc93af215b"
      },
      "execution_count": null,
      "outputs": [
        {
          "output_type": "display_data",
          "data": {
            "text/plain": [
              "<Figure size 1000x600 with 1 Axes>"
            ],
            "image/png": "[encoded data removed]"
          },
          "metadata": {}
        }
      ]
    },
    {
      "cell_type": "code",
      "source": [
        "\n",
        "# 🧠 Predict fraud probability at claim-level\n",
        "test_merged[\"Pred_Prob\"] = lgb_model.predict_proba(X_test)[:, 1]\n",
        "\n",
        "# 🎯 Aggregate to provider-level\n",
        "provider_preds = test_merged.groupby(\"Provider\")[\"Pred_Prob\"].max().reset_index()\n",
        "\n",
        "# 🔧 Threshold\n",
        "provider_preds[\"PotentialFraud\"] = (provider_preds[\"Pred_Prob\"] >= 0.42).astype(int)\n",
        "\n",
        "# 📁 Save\n",
        "submission_path = \"/content/drive/MyDrive/Project/healthcare/submission_lightgbm.csv\"\n",
        "submission = provider_preds[[\"Provider\", \"PotentialFraud\"]]\n",
        "submission.to_csv(submission_path, index=False)\n",
        "\n",
        "# ✅ Output check\n",
        "print(\"✅ Submission shape:\", submission.shape)\n",
        "print(\"📊 Label distribution:\\n\", submission[\"PotentialFraud\"].value_counts())\n",
        "submission.head()"
      ],
      "metadata": {
        "colab": {
          "base_uri": "https://localhost:8080/",
          "height": 313
        },
        "id": "Xw5h4WIyPJkS",
        "outputId": "5fa2cca1-a2ca-486d-fc13-ea5bfed007ce"
      },
      "execution_count": 200,
      "outputs": [
        {
          "output_type": "stream",
          "name": "stdout",
          "text": [
            "✅ Submission shape: (1353, 2)\n",
            "📊 Label distribution:\n",
            " PotentialFraud\n",
            "1    927\n",
            "0    426\n",
            "Name: count, dtype: int64\n"
          ]
        },
        {
          "output_type": "execute_result",
          "data": {
            "text/plain": [
              "   Provider  PotentialFraud\n",
              "0  PRV51002               1\n",
              "1  PRV51006               1\n",
              "2  PRV51009               1\n",
              "3  PRV51010               1\n",
              "4  PRV51018               1"
            ],
            "text/html": [
              "\n",
              "  <div id=\"df-3e24e6f6-db20-4d71-8ffa-7d91822c2718\" class=\"colab-df-container\">\n",
              "    <div>\n",
              "<style scoped>\n",
              "    .dataframe tbody tr th:only-of-type {\n",
              "        vertical-align: middle;\n",
              "    }\n",
              "\n",
              "    .dataframe tbody tr th {\n",
              "        vertical-align: top;\n",
              "    }\n",
              "\n",
              "    .dataframe thead th {\n",
              "        text-align: right;\n",
              "    }\n",
              "</style>\n",
              "<table border=\"1\" class=\"dataframe\">\n",
              "  <thead>\n",
              "    <tr style=\"text-align: right;\">\n",
              "      <th></th>\n",
              "      <th>Provider</th>\n",
              "      <th>PotentialFraud</th>\n",
              "    </tr>\n",
              "  </thead>\n",
              "  <tbody>\n",
              "    <tr>\n",
              "      <th>0</th>\n",
              "      <td>PRV51002</td>\n",
              "      <td>1</td>\n",
              "    </tr>\n",
              "    <tr>\n",
              "      <th>1</th>\n",
              "      <td>PRV51006</td>\n",
              "      <td>1</td>\n",
              "    </tr>\n",
              "    <tr>\n",
              "      <th>2</th>\n",
              "      <td>PRV51009</td>\n",
              "      <td>1</td>\n",
              "    </tr>\n",
              "    <tr>\n",
              "      <th>3</th>\n",
              "      <td>PRV51010</td>\n",
              "      <td>1</td>\n",
              "    </tr>\n",
              "    <tr>\n",
              "      <th>4</th>\n",
              "      <td>PRV51018</td>\n",
              "      <td>1</td>\n",
              "    </tr>\n",
              "  </tbody>\n",
              "</table>\n",
              "</div>\n",
              "    <div class=\"colab-df-buttons\">\n",
              "\n",
              "  <div class=\"colab-df-container\">\n",
              "    <button class=\"colab-df-convert\" onclick=\"convertToInteractive('df-3e24e6f6-db20-4d71-8ffa-7d91822c2718')\"\n",
              "            title=\"Convert this dataframe to an interactive table.\"\n",
              "            style=\"display:none;\">\n",
              "\n",
              "  <svg xmlns=\"http://www.w3.org/2000/svg\" height=\"24px\" viewBox=\"0 -960 960 960\">\n",
              "    <path d=\"M120-120v-720h720v720H120Zm60-500h600v-160H180v160Zm220 220h160v-160H400v160Zm0 220h160v-160H400v160ZM180-400h160v-160H180v160Zm440 0h160v-160H620v160ZM180-180h160v-160H180v160Zm440 0h160v-160H620v160Z\"/>\n",
              "  </svg>\n",
              "    </button>\n",
              "\n",
              "  <style>\n",
              "    .colab-df-container {\n",
              "      display:flex;\n",
              "      gap: 12px;\n",
              "    }\n",
              "\n",
              "    .colab-df-convert {\n",
              "      background-color: #E8F0FE;\n",
              "      border: none;\n",
              "      border-radius: 50%;\n",
              "      cursor: pointer;\n",
              "      display: none;\n",
              "      fill: #1967D2;\n",
              "      height: 32px;\n",
              "      padding: 0 0 0 0;\n",
              "      width: 32px;\n",
              "    }\n",
              "\n",
              "    .colab-df-convert:hover {\n",
              "      background-color: #E2EBFA;\n",
              "      box-shadow: 0px 1px 2px rgba(60, 64, 67, 0.3), 0px 1px 3px 1px rgba(60, 64, 67, 0.15);\n",
              "      fill: #174EA6;\n",
              "    }\n",
              "\n",
              "    .colab-df-buttons div {\n",
              "      margin-bottom: 4px;\n",
              "    }\n",
              "\n",
              "    [theme=dark] .colab-df-convert {\n",
              "      background-color: #3B4455;\n",
              "      fill: #D2E3FC;\n",
              "    }\n",
              "\n",
              "    [theme=dark] .colab-df-convert:hover {\n",
              "      background-color: #434B5C;\n",
              "      box-shadow: 0px 1px 3px 1px rgba(0, 0, 0, 0.15);\n",
              "      filter: drop-shadow(0px 1px 2px rgba(0, 0, 0, 0.3));\n",
              "      fill: #FFFFFF;\n",
              "    }\n",
              "  </style>\n",
              "\n",
              "    <script>\n",
              "      const buttonEl =\n",
              "        document.querySelector('#df-3e24e6f6-db20-4d71-8ffa-7d91822c2718 button.colab-df-convert');\n",
              "      buttonEl.style.display =\n",
              "        google.colab.kernel.accessAllowed ? 'block' : 'none';\n",
              "\n",
              "      async function convertToInteractive(key) {\n",
              "        const element = document.querySelector('#df-3e24e6f6-db20-4d71-8ffa-7d91822c2718');\n",
              "        const dataTable =\n",
              "          await google.colab.kernel.invokeFunction('convertToInteractive',\n",
              "                                                    [key], {});\n",
              "        if (!dataTable) return;\n",
              "\n",
              "        const docLinkHtml = 'Like what you see? Visit the ' +\n",
              "          '<a target=\"_blank\" href=https://colab.research.google.com/notebooks/data_table.ipynb>data table notebook</a>'\n",
              "          + ' to learn more about interactive tables.';\n",
              "        element.innerHTML = '';\n",
              "        dataTable['output_type'] = 'display_data';\n",
              "        await google.colab.output.renderOutput(dataTable, element);\n",
              "        const docLink = document.createElement('div');\n",
              "        docLink.innerHTML = docLinkHtml;\n",
              "        element.appendChild(docLink);\n",
              "      }\n",
              "    </script>\n",
              "  </div>\n",
              "\n",
              "\n",
              "    <div id=\"df-d93510e3-5004-4c69-888a-678a23bfc384\">\n",
              "      <button class=\"colab-df-quickchart\" onclick=\"quickchart('df-d93510e3-5004-4c69-888a-678a23bfc384')\"\n",
              "                title=\"Suggest charts\"\n",
              "                style=\"display:none;\">\n",
              "\n",
              "<svg xmlns=\"http://www.w3.org/2000/svg\" height=\"24px\"viewBox=\"0 0 24 24\"\n",
              "     width=\"24px\">\n",
              "    <g>\n",
              "        <path d=\"M19 3H5c-1.1 0-2 .9-2 2v14c0 1.1.9 2 2 2h14c1.1 0 2-.9 2-2V5c0-1.1-.9-2-2-2zM9 17H7v-7h2v7zm4 0h-2V7h2v10zm4 0h-2v-4h2v4z\"/>\n",
              "    </g>\n",
              "</svg>\n",
              "      </button>\n",
              "\n",
              "<style>\n",
              "  .colab-df-quickchart {\n",
              "      --bg-color: #E8F0FE;\n",
              "      --fill-color: #1967D2;\n",
              "      --hover-bg-color: #E2EBFA;\n",
              "      --hover-fill-color: #174EA6;\n",
              "      --disabled-fill-color: #AAA;\n",
              "      --disabled-bg-color: #DDD;\n",
              "  }\n",
              "\n",
              "  [theme=dark] .colab-df-quickchart {\n",
              "      --bg-color: #3B4455;\n",
              "      --fill-color: #D2E3FC;\n",
              "      --hover-bg-color: #434B5C;\n",
              "      --hover-fill-color: #FFFFFF;\n",
              "      --disabled-bg-color: #3B4455;\n",
              "      --disabled-fill-color: #666;\n",
              "  }\n",
              "\n",
              "  .colab-df-quickchart {\n",
              "    background-color: var(--bg-color);\n",
              "    border: none;\n",
              "    border-radius: 50%;\n",
              "    cursor: pointer;\n",
              "    display: none;\n",
              "    fill: var(--fill-color);\n",
              "    height: 32px;\n",
              "    padding: 0;\n",
              "    width: 32px;\n",
              "  }\n",
              "\n",
              "  .colab-df-quickchart:hover {\n",
              "    background-color: var(--hover-bg-color);\n",
              "    box-shadow: 0 1px 2px rgba(60, 64, 67, 0.3), 0 1px 3px 1px rgba(60, 64, 67, 0.15);\n",
              "    fill: var(--button-hover-fill-color);\n",
              "  }\n",
              "\n",
              "  .colab-df-quickchart-complete:disabled,\n",
              "  .colab-df-quickchart-complete:disabled:hover {\n",
              "    background-color: var(--disabled-bg-color);\n",
              "    fill: var(--disabled-fill-color);\n",
              "    box-shadow: none;\n",
              "  }\n",
              "\n",
              "  .colab-df-spinner {\n",
              "    border: 2px solid var(--fill-color);\n",
              "    border-color: transparent;\n",
              "    border-bottom-color: var(--fill-color);\n",
              "    animation:\n",
              "      spin 1s steps(1) infinite;\n",
              "  }\n",
              "\n",
              "  @keyframes spin {\n",
              "    0% {\n",
              "      border-color: transparent;\n",
              "      border-bottom-color: var(--fill-color);\n",
              "      border-left-color: var(--fill-color);\n",
              "    }\n",
              "    20% {\n",
              "      border-color: transparent;\n",
              "      border-left-color: var(--fill-color);\n",
              "      border-top-color: var(--fill-color);\n",
              "    }\n",
              "    30% {\n",
              "      border-color: transparent;\n",
              "      border-left-color: var(--fill-color);\n",
              "      border-top-color: var(--fill-color);\n",
              "      border-right-color: var(--fill-color);\n",
              "    }\n",
              "    40% {\n",
              "      border-color: transparent;\n",
              "      border-right-color: var(--fill-color);\n",
              "      border-top-color: var(--fill-color);\n",
              "    }\n",
              "    60% {\n",
              "      border-color: transparent;\n",
              "      border-right-color: var(--fill-color);\n",
              "    }\n",
              "    80% {\n",
              "      border-color: transparent;\n",
              "      border-right-color: var(--fill-color);\n",
              "      border-bottom-color: var(--fill-color);\n",
              "    }\n",
              "    90% {\n",
              "      border-color: transparent;\n",
              "      border-bottom-color: var(--fill-color);\n",
              "    }\n",
              "  }\n",
              "</style>\n",
              "\n",
              "      <script>\n",
              "        async function quickchart(key) {\n",
              "          const quickchartButtonEl =\n",
              "            document.querySelector('#' + key + ' button');\n",
              "          quickchartButtonEl.disabled = true;  // To prevent multiple clicks.\n",
              "          quickchartButtonEl.classList.add('colab-df-spinner');\n",
              "          try {\n",
              "            const charts = await google.colab.kernel.invokeFunction(\n",
              "                'suggestCharts', [key], {});\n",
              "          } catch (error) {\n",
              "            console.error('Error during call to suggestCharts:', error);\n",
              "          }\n",
              "          quickchartButtonEl.classList.remove('colab-df-spinner');\n",
              "          quickchartButtonEl.classList.add('colab-df-quickchart-complete');\n",
              "        }\n",
              "        (() => {\n",
              "          let quickchartButtonEl =\n",
              "            document.querySelector('#df-d93510e3-5004-4c69-888a-678a23bfc384 button');\n",
              "          quickchartButtonEl.style.display =\n",
              "            google.colab.kernel.accessAllowed ? 'block' : 'none';\n",
              "        })();\n",
              "      </script>\n",
              "    </div>\n",
              "\n",
              "    </div>\n",
              "  </div>\n"
            ],
            "application/vnd.google.colaboratory.intrinsic+json": {
              "type": "dataframe",
              "variable_name": "submission",
              "summary": "{\n  \"name\": \"submission\",\n  \"rows\": 1353,\n  \"fields\": [\n    {\n      \"column\": \"Provider\",\n      \"properties\": {\n        \"dtype\": \"string\",\n        \"num_unique_values\": 1353,\n        \"samples\": [\n          \"PRV51208\",\n          \"PRV54243\",\n          \"PRV56155\"\n        ],\n        \"semantic_type\": \"\",\n        \"description\": \"\"\n      }\n    },\n    {\n      \"column\": \"PotentialFraud\",\n      \"properties\": {\n        \"dtype\": \"number\",\n        \"std\": 0,\n        \"min\": 0,\n        \"max\": 1,\n        \"num_unique_values\": 2,\n        \"samples\": [\n          0,\n          1\n        ],\n        \"semantic_type\": \"\",\n        \"description\": \"\"\n      }\n    }\n  ]\n}"
            }
          },
          "metadata": {},
          "execution_count": 200
        }
      ]
    },
    {
      "cell_type": "markdown",
      "source": [
        "### 🔍 Final Threshold Selection for Fraud Classification\n",
        "\n",
        "#### 📈 Precision vs. Recall Trade-off (from plot)\n",
        "\n",
        "- **Recall** is high (~0.83) at thresholds ≤ 0.5 — useful to catch more fraudulent providers.\n",
        "- **Precision** improves as threshold increases — reduces false alarms but may miss actual fraud.\n",
        "- Around **threshold = 0.5**, both metrics are reasonably balanced.\n",
        "\n",
        "#### ✅ Recommended Threshold: **0.5**\n",
        "\n",
        "- 📌 **F1-optimized zone** where both false positives and false negatives are minimized.\n",
        "- ⚖️ Ensures **high fraud capture** while keeping **noise (false alerts)** acceptable.\n",
        "- 💡 Chosen for its **practical utility** in real-world fraud detection pipelines.\n",
        "\n",
        "#### 💼 Business Justification:\n",
        "\n",
        "- Ideal balance between **catching true frauds** and **avoiding provider misclassification**.\n",
        "- Prevents under-reporting (losses) or over-flagging (provider dissatisfaction).\n",
        "\n",
        "---\n"
      ],
      "metadata": {
        "id": "YGuvVR6oUqQ5"
      }
    }
  ]
}